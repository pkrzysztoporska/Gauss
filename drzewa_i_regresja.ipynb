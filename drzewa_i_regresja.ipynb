{
 "cells": [
  {
   "cell_type": "code",
   "execution_count": 1,
   "metadata": {
    "collapsed": true
   },
   "outputs": [],
   "source": [
    "# Kod na podstawie kursu Matthew Renze\n",
    "# Wczytujemy dane\n",
    "data(iris)"
   ]
  },
  {
   "cell_type": "code",
   "execution_count": 2,
   "metadata": {
    "collapsed": false
   },
   "outputs": [
    {
     "data": {
      "text/html": [
       "<table>\n",
       "<thead><tr><th scope=col>Sepal.Length</th><th scope=col>Sepal.Width</th><th scope=col>Petal.Length</th><th scope=col>Petal.Width</th><th scope=col>Species</th></tr></thead>\n",
       "<tbody>\n",
       "\t<tr><td>5.1   </td><td>3.5   </td><td>1.4   </td><td>0.2   </td><td>setosa</td></tr>\n",
       "\t<tr><td>4.9   </td><td>3.0   </td><td>1.4   </td><td>0.2   </td><td>setosa</td></tr>\n",
       "\t<tr><td>4.7   </td><td>3.2   </td><td>1.3   </td><td>0.2   </td><td>setosa</td></tr>\n",
       "\t<tr><td>4.6   </td><td>3.1   </td><td>1.5   </td><td>0.2   </td><td>setosa</td></tr>\n",
       "\t<tr><td>5.0   </td><td>3.6   </td><td>1.4   </td><td>0.2   </td><td>setosa</td></tr>\n",
       "\t<tr><td>5.4   </td><td>3.9   </td><td>1.7   </td><td>0.4   </td><td>setosa</td></tr>\n",
       "</tbody>\n",
       "</table>\n"
      ],
      "text/latex": [
       "\\begin{tabular}{r|lllll}\n",
       " Sepal.Length & Sepal.Width & Petal.Length & Petal.Width & Species\\\\\n",
       "\\hline\n",
       "\t 5.1    & 3.5    & 1.4    & 0.2    & setosa\\\\\n",
       "\t 4.9    & 3.0    & 1.4    & 0.2    & setosa\\\\\n",
       "\t 4.7    & 3.2    & 1.3    & 0.2    & setosa\\\\\n",
       "\t 4.6    & 3.1    & 1.5    & 0.2    & setosa\\\\\n",
       "\t 5.0    & 3.6    & 1.4    & 0.2    & setosa\\\\\n",
       "\t 5.4    & 3.9    & 1.7    & 0.4    & setosa\\\\\n",
       "\\end{tabular}\n"
      ],
      "text/markdown": [
       "\n",
       "Sepal.Length | Sepal.Width | Petal.Length | Petal.Width | Species | \n",
       "|---|---|---|---|---|---|\n",
       "| 5.1    | 3.5    | 1.4    | 0.2    | setosa | \n",
       "| 4.9    | 3.0    | 1.4    | 0.2    | setosa | \n",
       "| 4.7    | 3.2    | 1.3    | 0.2    | setosa | \n",
       "| 4.6    | 3.1    | 1.5    | 0.2    | setosa | \n",
       "| 5.0    | 3.6    | 1.4    | 0.2    | setosa | \n",
       "| 5.4    | 3.9    | 1.7    | 0.4    | setosa | \n",
       "\n",
       "\n"
      ],
      "text/plain": [
       "  Sepal.Length Sepal.Width Petal.Length Petal.Width Species\n",
       "1 5.1          3.5         1.4          0.2         setosa \n",
       "2 4.9          3.0         1.4          0.2         setosa \n",
       "3 4.7          3.2         1.3          0.2         setosa \n",
       "4 4.6          3.1         1.5          0.2         setosa \n",
       "5 5.0          3.6         1.4          0.2         setosa \n",
       "6 5.4          3.9         1.7          0.4         setosa "
      ]
     },
     "metadata": {},
     "output_type": "display_data"
    }
   ],
   "source": [
    "# Zapoznanie się z formatem danych\n",
    "head(iris)"
   ]
  },
  {
   "cell_type": "code",
   "execution_count": 4,
   "metadata": {
    "collapsed": false
   },
   "outputs": [
    {
     "ename": "ERROR",
     "evalue": "Error in contrib.url(repos, \"source\"): trying to use CRAN without setting a mirror\n",
     "output_type": "error",
     "traceback": [
      "Error in contrib.url(repos, \"source\"): trying to use CRAN without setting a mirror\nTraceback:\n",
      "1. install.packages(\"corrplot\")",
      "2. contrib.url(repos, \"source\")",
      "3. stop(\"trying to use CRAN without setting a mirror\")"
     ]
    }
   ],
   "source": [
    "library(corrplot)\n",
    "M <- cor(iris[1:4])\n",
    "M"
   ]
  },
  {
   "cell_type": "code",
   "execution_count": 5,
   "metadata": {
    "collapsed": false
   },
   "outputs": [
    {
     "ename": "ERROR",
     "evalue": "Error in eval(expr, envir, enclos): nie udało się znaleźć funkcji 'corrplot'\n",
     "output_type": "error",
     "traceback": [
      "Error in eval(expr, envir, enclos): nie udało się znaleźć funkcji 'corrplot'\nTraceback:\n"
     ]
    }
   ],
   "source": [
    "# Rysowanie macierzy korelacji\n",
    "# dostępne metody \"circle\", \"square\", \"ellipse\", \"number\", \"shade\", \"color\", \"pie\"\n",
    "corrplot(M, method = \"ellipse\")\n",
    "corrplot(M, method = \"pie\")\n",
    "corrplot(M, method = \"number\")"
   ]
  },
  {
   "cell_type": "code",
   "execution_count": 6,
   "metadata": {
    "collapsed": false
   },
   "outputs": [
    {
     "data": {},
     "metadata": {},
     "output_type": "display_data"
    },
    {
     "data": {
      "image/png": "[encoded data removed]",
      "text/plain": [
       "plot without title"
      ]
     },
     "metadata": {},
     "output_type": "display_data"
    }
   ],
   "source": [
    "library(\"RColorBrewer\")\n",
    "library(\"ggplot2\")\n",
    "color <- brewer.pal(8,\"Set2\")\n",
    "wykres <- ggplot() + geom_point(data = iris, aes(x=Petal.Length, y=Petal.Width)) + \n",
    "  ggtitle(\"Petal Length vs Petal Width\") + \n",
    "  xlab(\"Petal Length\") + ylab(\"Petal Width\") + theme_bw() \n",
    "wykres"
   ]
  },
  {
   "cell_type": "code",
   "execution_count": 7,
   "metadata": {
    "collapsed": true
   },
   "outputs": [],
   "source": [
    "#Regresja liniowa\n",
    "model <- lm(formula = Petal.Width ~ Petal.Length, data = iris)"
   ]
  },
  {
   "cell_type": "code",
   "execution_count": 8,
   "metadata": {
    "collapsed": false
   },
   "outputs": [
    {
     "data": {
      "text/plain": [
       "\n",
       "Call:\n",
       "lm(formula = Petal.Width ~ Petal.Length, data = iris)\n",
       "\n",
       "Residuals:\n",
       "     Min       1Q   Median       3Q      Max \n",
       "-0.56515 -0.12358 -0.01898  0.13288  0.64272 \n",
       "\n",
       "Coefficients:\n",
       "              Estimate Std. Error t value Pr(>|t|)    \n",
       "(Intercept)  -0.363076   0.039762  -9.131  4.7e-16 ***\n",
       "Petal.Length  0.415755   0.009582  43.387  < 2e-16 ***\n",
       "---\n",
       "Signif. codes:  0 '***' 0.001 '**' 0.01 '*' 0.05 '.' 0.1 ' ' 1\n",
       "\n",
       "Residual standard error: 0.2065 on 148 degrees of freedom\n",
       "Multiple R-squared:  0.9271,\tAdjusted R-squared:  0.9266 \n",
       "F-statistic:  1882 on 1 and 148 DF,  p-value: < 2.2e-16\n"
      ]
     },
     "metadata": {},
     "output_type": "display_data"
    },
    {
     "data": {},
     "metadata": {},
     "output_type": "display_data"
    },
    {
     "data": {
      "image/png": "[encoded data removed]",
      "text/plain": [
       "plot without title"
      ]
     },
     "metadata": {},
     "output_type": "display_data"
    }
   ],
   "source": [
    "# Podsumowanie i narysowanie modelu\n",
    "# y = ax+b -> b = Intercept, a = Petal.Length\n",
    "summary(model)\n",
    "wykres2 <- wykres +  geom_line(aes(x=iris$Petal.Length, y=model$fitted), col=\"red\")\n",
    "wykres2"
   ]
  },
  {
   "cell_type": "code",
   "execution_count": 11,
   "metadata": {
    "collapsed": false
   },
   "outputs": [
    {
     "data": {},
     "metadata": {},
     "output_type": "display_data"
    },
    {
     "data": {
      "image/png": "[encoded data removed]",
      "text/plain": [
       "plot without title"
      ]
     },
     "metadata": {},
     "output_type": "display_data"
    },
    {
     "data": {
      "image/png": "[encoded data removed]",
      "text/plain": [
       "plot without title"
      ]
     },
     "metadata": {},
     "output_type": "display_data"
    }
   ],
   "source": [
    "# Predykcja\n",
    "x_prediction <- c(2,4,6)\n",
    "y_prediction <- predict( object = model, newdata = data.frame(Petal.Length = x_prediction))\n",
    "\n",
    "plot(x = iris$Petal.Length, y = iris$Petal.Width, pch = 16)\n",
    "lines(x = iris$Petal.Length, y = model$fitted, col = \"red\", lw = 3)\n",
    "points(x = x_prediction, y = y_prediction, col = \"blue\", pch = 14, lw = 5)\n",
    "\n",
    "wykres2 + geom_point(aes(x = x_prediction, y = y_prediction), col = \"red\", pch=15,size=3)"
   ]
  },
  {
   "cell_type": "code",
   "execution_count": 12,
   "metadata": {
    "collapsed": false
   },
   "outputs": [
    {
     "data": {
      "text/html": [
       "<ol class=list-inline>\n",
       "\t<li>138</li>\n",
       "\t<li>140</li>\n",
       "\t<li>43</li>\n",
       "\t<li>123</li>\n",
       "\t<li>94</li>\n",
       "\t<li>76</li>\n",
       "\t<li>107</li>\n",
       "\t<li>20</li>\n",
       "\t<li>146</li>\n",
       "\t<li>100</li>\n",
       "\t<li>65</li>\n",
       "\t<li>141</li>\n",
       "\t<li>129</li>\n",
       "\t<li>35</li>\n",
       "\t<li>63</li>\n",
       "\t<li>127</li>\n",
       "\t<li>132</li>\n",
       "\t<li>16</li>\n",
       "\t<li>136</li>\n",
       "\t<li>74</li>\n",
       "\t<li>118</li>\n",
       "\t<li>18</li>\n",
       "\t<li>135</li>\n",
       "\t<li>121</li>\n",
       "\t<li>11</li>\n",
       "\t<li>149</li>\n",
       "\t<li>49</li>\n",
       "\t<li>112</li>\n",
       "\t<li>55</li>\n",
       "\t<li>102</li>\n",
       "\t<li>89</li>\n",
       "\t<li>97</li>\n",
       "\t<li>46</li>\n",
       "\t<li>81</li>\n",
       "\t<li>1</li>\n",
       "\t<li>96</li>\n",
       "\t<li>116</li>\n",
       "\t<li>24</li>\n",
       "\t<li>128</li>\n",
       "\t<li>68</li>\n",
       "\t<li>42</li>\n",
       "\t<li>48</li>\n",
       "\t<li>5</li>\n",
       "\t<li>105</li>\n",
       "\t<li>130</li>\n",
       "\t<li>101</li>\n",
       "\t<li>93</li>\n",
       "\t<li>66</li>\n",
       "\t<li>139</li>\n",
       "\t<li>134</li>\n",
       "\t<li>34</li>\n",
       "\t<li>137</li>\n",
       "\t<li>40</li>\n",
       "\t<li>77</li>\n",
       "\t<li>4</li>\n",
       "\t<li>72</li>\n",
       "\t<li>64</li>\n",
       "\t<li>133</li>\n",
       "\t<li>25</li>\n",
       "\t<li>47</li>\n",
       "\t<li>61</li>\n",
       "\t<li>88</li>\n",
       "\t<li>67</li>\n",
       "\t<li>50</li>\n",
       "\t<li>131</li>\n",
       "\t<li>17</li>\n",
       "\t<li>23</li>\n",
       "\t<li>69</li>\n",
       "\t<li>57</li>\n",
       "\t<li>143</li>\n",
       "\t<li>115</li>\n",
       "\t<li>12</li>\n",
       "\t<li>85</li>\n",
       "\t<li>37</li>\n",
       "\t<li>104</li>\n",
       "\t<li>54</li>\n",
       "\t<li>114</li>\n",
       "\t<li>28</li>\n",
       "\t<li>38</li>\n",
       "\t<li>86</li>\n",
       "\t<li>41</li>\n",
       "\t<li>126</li>\n",
       "\t<li>92</li>\n",
       "\t<li>44</li>\n",
       "\t<li>52</li>\n",
       "\t<li>119</li>\n",
       "\t<li>15</li>\n",
       "\t<li>6</li>\n",
       "\t<li>144</li>\n",
       "\t<li>19</li>\n",
       "\t<li>70</li>\n",
       "\t<li>71</li>\n",
       "\t<li>13</li>\n",
       "\t<li>75</li>\n",
       "\t<li>103</li>\n",
       "\t<li>60</li>\n",
       "\t<li>150</li>\n",
       "\t<li>73</li>\n",
       "\t<li>39</li>\n",
       "\t<li>32</li>\n",
       "</ol>\n"
      ],
      "text/latex": [
       "\\begin{enumerate*}\n",
       "\\item 138\n",
       "\\item 140\n",
       "\\item 43\n",
       "\\item 123\n",
       "\\item 94\n",
       "\\item 76\n",
       "\\item 107\n",
       "\\item 20\n",
       "\\item 146\n",
       "\\item 100\n",
       "\\item 65\n",
       "\\item 141\n",
       "\\item 129\n",
       "\\item 35\n",
       "\\item 63\n",
       "\\item 127\n",
       "\\item 132\n",
       "\\item 16\n",
       "\\item 136\n",
       "\\item 74\n",
       "\\item 118\n",
       "\\item 18\n",
       "\\item 135\n",
       "\\item 121\n",
       "\\item 11\n",
       "\\item 149\n",
       "\\item 49\n",
       "\\item 112\n",
       "\\item 55\n",
       "\\item 102\n",
       "\\item 89\n",
       "\\item 97\n",
       "\\item 46\n",
       "\\item 81\n",
       "\\item 1\n",
       "\\item 96\n",
       "\\item 116\n",
       "\\item 24\n",
       "\\item 128\n",
       "\\item 68\n",
       "\\item 42\n",
       "\\item 48\n",
       "\\item 5\n",
       "\\item 105\n",
       "\\item 130\n",
       "\\item 101\n",
       "\\item 93\n",
       "\\item 66\n",
       "\\item 139\n",
       "\\item 134\n",
       "\\item 34\n",
       "\\item 137\n",
       "\\item 40\n",
       "\\item 77\n",
       "\\item 4\n",
       "\\item 72\n",
       "\\item 64\n",
       "\\item 133\n",
       "\\item 25\n",
       "\\item 47\n",
       "\\item 61\n",
       "\\item 88\n",
       "\\item 67\n",
       "\\item 50\n",
       "\\item 131\n",
       "\\item 17\n",
       "\\item 23\n",
       "\\item 69\n",
       "\\item 57\n",
       "\\item 143\n",
       "\\item 115\n",
       "\\item 12\n",
       "\\item 85\n",
       "\\item 37\n",
       "\\item 104\n",
       "\\item 54\n",
       "\\item 114\n",
       "\\item 28\n",
       "\\item 38\n",
       "\\item 86\n",
       "\\item 41\n",
       "\\item 126\n",
       "\\item 92\n",
       "\\item 44\n",
       "\\item 52\n",
       "\\item 119\n",
       "\\item 15\n",
       "\\item 6\n",
       "\\item 144\n",
       "\\item 19\n",
       "\\item 70\n",
       "\\item 71\n",
       "\\item 13\n",
       "\\item 75\n",
       "\\item 103\n",
       "\\item 60\n",
       "\\item 150\n",
       "\\item 73\n",
       "\\item 39\n",
       "\\item 32\n",
       "\\end{enumerate*}\n"
      ],
      "text/markdown": [
       "1. 138\n",
       "2. 140\n",
       "3. 43\n",
       "4. 123\n",
       "5. 94\n",
       "6. 76\n",
       "7. 107\n",
       "8. 20\n",
       "9. 146\n",
       "10. 100\n",
       "11. 65\n",
       "12. 141\n",
       "13. 129\n",
       "14. 35\n",
       "15. 63\n",
       "16. 127\n",
       "17. 132\n",
       "18. 16\n",
       "19. 136\n",
       "20. 74\n",
       "21. 118\n",
       "22. 18\n",
       "23. 135\n",
       "24. 121\n",
       "25. 11\n",
       "26. 149\n",
       "27. 49\n",
       "28. 112\n",
       "29. 55\n",
       "30. 102\n",
       "31. 89\n",
       "32. 97\n",
       "33. 46\n",
       "34. 81\n",
       "35. 1\n",
       "36. 96\n",
       "37. 116\n",
       "38. 24\n",
       "39. 128\n",
       "40. 68\n",
       "41. 42\n",
       "42. 48\n",
       "43. 5\n",
       "44. 105\n",
       "45. 130\n",
       "46. 101\n",
       "47. 93\n",
       "48. 66\n",
       "49. 139\n",
       "50. 134\n",
       "51. 34\n",
       "52. 137\n",
       "53. 40\n",
       "54. 77\n",
       "55. 4\n",
       "56. 72\n",
       "57. 64\n",
       "58. 133\n",
       "59. 25\n",
       "60. 47\n",
       "61. 61\n",
       "62. 88\n",
       "63. 67\n",
       "64. 50\n",
       "65. 131\n",
       "66. 17\n",
       "67. 23\n",
       "68. 69\n",
       "69. 57\n",
       "70. 143\n",
       "71. 115\n",
       "72. 12\n",
       "73. 85\n",
       "74. 37\n",
       "75. 104\n",
       "76. 54\n",
       "77. 114\n",
       "78. 28\n",
       "79. 38\n",
       "80. 86\n",
       "81. 41\n",
       "82. 126\n",
       "83. 92\n",
       "84. 44\n",
       "85. 52\n",
       "86. 119\n",
       "87. 15\n",
       "88. 6\n",
       "89. 144\n",
       "90. 19\n",
       "91. 70\n",
       "92. 71\n",
       "93. 13\n",
       "94. 75\n",
       "95. 103\n",
       "96. 60\n",
       "97. 150\n",
       "98. 73\n",
       "99. 39\n",
       "100. 32\n",
       "\n",
       "\n"
      ],
      "text/plain": [
       "  [1] 138 140  43 123  94  76 107  20 146 100  65 141 129  35  63 127 132  16\n",
       " [19] 136  74 118  18 135 121  11 149  49 112  55 102  89  97  46  81   1  96\n",
       " [37] 116  24 128  68  42  48   5 105 130 101  93  66 139 134  34 137  40  77\n",
       " [55]   4  72  64 133  25  47  61  88  67  50 131  17  23  69  57 143 115  12\n",
       " [73]  85  37 104  54 114  28  38  86  41 126  92  44  52 119  15   6 144  19\n",
       " [91]  70  71  13  75 103  60 150  73  39  32"
      ]
     },
     "metadata": {},
     "output_type": "display_data"
    },
    {
     "data": {
      "text/html": [
       "100"
      ],
      "text/latex": [
       "100"
      ],
      "text/markdown": [
       "100"
      ],
      "text/plain": [
       "[1] 100"
      ]
     },
     "metadata": {},
     "output_type": "display_data"
    },
    {
     "data": {
      "text/html": [
       "100"
      ],
      "text/latex": [
       "100"
      ],
      "text/markdown": [
       "100"
      ],
      "text/plain": [
       "[1] 100"
      ]
     },
     "metadata": {},
     "output_type": "display_data"
    },
    {
     "data": {
      "text/html": [
       "50"
      ],
      "text/latex": [
       "50"
      ],
      "text/markdown": [
       "50"
      ],
      "text/plain": [
       "[1] 50"
      ]
     },
     "metadata": {},
     "output_type": "display_data"
    },
    {
     "ename": "ERROR",
     "evalue": "Error in library(tree): there is no package called 'tree'\n",
     "output_type": "error",
     "traceback": [
      "Error in library(tree): there is no package called 'tree'\nTraceback:\n",
      "1. library(tree)",
      "2. stop(txt, domain = NA)"
     ]
    }
   ],
   "source": [
    "# Drzewa decyzyjne\n",
    "\n",
    "set.seed(42)\n",
    "indexes <- sample(x = 1:150, size = 100)\n",
    "indexes\n",
    "length(indexes)\n",
    "train <- iris[indexes,]\n",
    "test <- iris[-indexes,]\n",
    "length(train[,1])\n",
    "length(test[,1])\n",
    "\n",
    "library(tree)"
   ]
  },
  {
   "cell_type": "code",
   "execution_count": 13,
   "metadata": {
    "collapsed": false
   },
   "outputs": [
    {
     "ename": "ERROR",
     "evalue": "Error in eval(expr, envir, enclos): nie udało się znaleźć funkcji 'tree'\n",
     "output_type": "error",
     "traceback": [
      "Error in eval(expr, envir, enclos): nie udało się znaleźć funkcji 'tree'\nTraceback:\n"
     ]
    }
   ],
   "source": [
    "# Tworzymy model\n",
    "\n",
    "model <- tree(formula = Species ~., data = train)\n",
    "# symbol kropki działa jak symbol * w SQL\n",
    "# moglibyśmy napisać Species ~ Petal.Length + Petal.Width + Sepal.Length + Sepal.Width\n",
    "# Podsumowanie modelu\n",
    "summary(model)"
   ]
  },
  {
   "cell_type": "code",
   "execution_count": 14,
   "metadata": {
    "collapsed": false
   },
   "outputs": [
    {
     "data": {
      "image/png": "[encoded data removed]",
      "text/plain": [
       "Plot with title \"\""
      ]
     },
     "metadata": {},
     "output_type": "display_data"
    },
    {
     "data": {
      "image/png": "[encoded data removed]",
      "text/plain": [
       "Plot with title \"\""
      ]
     },
     "metadata": {},
     "output_type": "display_data"
    },
    {
     "data": {
      "image/png": "[encoded data removed]",
      "text/plain": [
       "Plot with title \"\""
      ]
     },
     "metadata": {},
     "output_type": "display_data"
    },
    {
     "ename": "ERROR",
     "evalue": "Error in xy.coords(x, y, recycle = TRUE): 'x' is a list, but does not have components 'x' and 'y'\n",
     "output_type": "error",
     "traceback": [
      "Error in xy.coords(x, y, recycle = TRUE): 'x' is a list, but does not have components 'x' and 'y'\nTraceback:\n",
      "1. text(model)",
      "2. text.default(model)",
      "3. xy.coords(x, y, recycle = TRUE)",
      "4. stop(\"'x' is a list, but does not have components 'x' and 'y'\")"
     ]
    },
    {
     "data": {
      "image/png": "[encoded data removed]",
      "text/plain": [
       "Plot with title \"\""
      ]
     },
     "metadata": {},
     "output_type": "display_data"
    }
   ],
   "source": [
    "plot(model)\n",
    "text(model)\n",
    "\n",
    "# Dane na wykresie\n",
    "paleta <- brewer.pal(3, \"Set2\")\n",
    "\n",
    "\n",
    "p <- ggplot(data = iris, aes(x=iris$Petal.Length, y = iris$Petal.Width, col = iris$Species)) + ggtitle(\"Petal Length vs Petal Width by Species\") + \n",
    "  xlab(\"Petal Length\") + ylab(\"Petal Width\") + theme_bw() + geom_point() +\n",
    "  scale_fill_manual(\"legend_title\",values=x$Species)\n",
    "p$labels$colour <- \"Species\"\n",
    "p"
   ]
  },
  {
   "cell_type": "code",
   "execution_count": 15,
   "metadata": {
    "collapsed": false
   },
   "outputs": [
    {
     "ename": "ERROR",
     "evalue": "Error in plot.xy(xy, type, ...): nie znaleziono obiektu 'paleta'\n",
     "output_type": "error",
     "traceback": [
      "Error in plot.xy(xy, type, ...): nie znaleziono obiektu 'paleta'\nTraceback:\n",
      "1. plot(x = iris$Petal.Length, y = iris$Petal.Width, pch = 19, col = paleta[as.numeric(iris$Species)], \n .     main = \"Iris Petal Length vs. Width\", xlab = \"Petal Length\", \n .     ylab = \"Petal Width\")",
      "2. plot.default(x = iris$Petal.Length, y = iris$Petal.Width, pch = 19, \n .     col = paleta[as.numeric(iris$Species)], main = \"Iris Petal Length vs. Width\", \n .     xlab = \"Petal Length\", ylab = \"Petal Width\")",
      "3. plot.xy(xy, type, ...)"
     ]
    },
    {
     "data": {
      "image/png": "[encoded data removed]",
      "text/plain": [
       "plot without title"
      ]
     },
     "metadata": {},
     "output_type": "display_data"
    }
   ],
   "source": [
    "plot ( x = iris$Petal.Length, \n",
    "       y = iris$Petal.Width, \n",
    "       pch=19, \n",
    "       col = paleta[as.numeric(iris$Species)],\n",
    "       main = \"Iris Petal Length vs. Width\",\n",
    "       xlab = \"Petal Length\",\n",
    "       ylab = \"Petal Width\")"
   ]
  },
  {
   "cell_type": "code",
   "execution_count": 16,
   "metadata": {
    "collapsed": false
   },
   "outputs": [
    {
     "ename": "ERROR",
     "evalue": "Error in eval(expr, envir, enclos): nie udało się znaleźć funkcji 'partition.tree'\n",
     "output_type": "error",
     "traceback": [
      "Error in eval(expr, envir, enclos): nie udało się znaleźć funkcji 'partition.tree'\nTraceback:\n"
     ]
    }
   ],
   "source": [
    "# partition.tree może stosować, jeśli drzewo ma 1 lub 2 zmienne pozycyjne\n",
    "partition.tree(tree = model, label = \"Species\", add=TRUE)\n",
    "# zmiana seeda 1 i 42\n",
    "\n",
    "# Predykcja modelu na danych testowych\n",
    "predictions <- predict( \n",
    "  object = model, \n",
    "  newdata = test,\n",
    "  type= \"class\") # classification\n",
    "# confusion matrix\n",
    "table( \n",
    "  x = predictions,\n",
    "  y = test$Species)\n"
   ]
  },
  {
   "cell_type": "code",
   "execution_count": 17,
   "metadata": {
    "collapsed": false
   },
   "outputs": [
    {
     "name": "stderr",
     "output_type": "stream",
     "text": [
      "Loading required package: lattice\n"
     ]
    },
    {
     "ename": "ERROR",
     "evalue": "Error in confusionMatrix(data = predictions, reference = test$Species): nie znaleziono obiektu 'predictions'\n",
     "output_type": "error",
     "traceback": [
      "Error in confusionMatrix(data = predictions, reference = test$Species): nie znaleziono obiektu 'predictions'\nTraceback:\n",
      "1. confusionMatrix(data = predictions, reference = test$Species)"
     ]
    }
   ],
   "source": [
    "library(caret)\n",
    "\n",
    "confusionMatrix(\n",
    "  data = predictions,\n",
    "  reference = test$Species)"
   ]
  },
  {
   "cell_type": "code",
   "execution_count": 18,
   "metadata": {
    "collapsed": false
   },
   "outputs": [
    {
     "name": "stderr",
     "output_type": "stream",
     "text": [
      "randomForest 4.6-12\n",
      "Type rfNews() to see new features/changes/bug fixes.\n",
      "\n",
      "Attaching package: 'randomForest'\n",
      "\n",
      "The following object is masked from 'package:ggplot2':\n",
      "\n",
      "    margin\n",
      "\n"
     ]
    },
    {
     "data": {
      "text/plain": [
       "                Length Class  Mode     \n",
       "call               4   -none- call     \n",
       "type               1   -none- character\n",
       "predicted        100   factor numeric  \n",
       "err.rate        2000   -none- numeric  \n",
       "confusion         12   -none- numeric  \n",
       "votes            300   matrix numeric  \n",
       "oob.times        100   -none- numeric  \n",
       "classes            3   -none- character\n",
       "importance         4   -none- numeric  \n",
       "importanceSD       0   -none- NULL     \n",
       "localImportance    0   -none- NULL     \n",
       "proximity          0   -none- NULL     \n",
       "ntree              1   -none- numeric  \n",
       "mtry               1   -none- numeric  \n",
       "forest            14   -none- list     \n",
       "y                100   factor numeric  \n",
       "test               0   -none- NULL     \n",
       "inbag              0   -none- NULL     \n",
       "terms              3   terms  call     "
      ]
     },
     "metadata": {},
     "output_type": "display_data"
    }
   ],
   "source": [
    "library(randomForest)\n",
    "r_model <- randomForest(Species~., data = train, ntree = 500)\n",
    "summary(r_model)"
   ]
  },
  {
   "cell_type": "code",
   "execution_count": 19,
   "metadata": {
    "collapsed": false
   },
   "outputs": [
    {
     "data": {
      "text/plain": [
       "            y\n",
       "x            setosa versicolor virginica\n",
       "  setosa         17          0         0\n",
       "  versicolor      0         16         1\n",
       "  virginica       0          2        14"
      ]
     },
     "metadata": {},
     "output_type": "display_data"
    }
   ],
   "source": [
    "predictions2 <- predict(object = r_model, newdata = test) \n",
    "table(\n",
    "  x = predictions2,\n",
    "  y = test$Species\n",
    ")"
   ]
  },
  {
   "cell_type": "code",
   "execution_count": 20,
   "metadata": {
    "collapsed": false
   },
   "outputs": [
    {
     "ename": "ERROR",
     "evalue": "Error in requireNamespaceQuietStop(\"e1071\"): package e1071 is required\n",
     "output_type": "error",
     "traceback": [
      "Error in requireNamespaceQuietStop(\"e1071\"): package e1071 is required\nTraceback:\n",
      "1. confusionMatrix(data = predictions2, reference = test$Species)",
      "2. confusionMatrix.default(data = predictions2, reference = test$Species)",
      "3. getFromNamespace(\"confusionMatrix.table\", \"caret\")(classTable, \n .     positive, prevalence = prevalence, mode = mode)",
      "4. requireNamespaceQuietStop(\"e1071\")",
      "5. stop(paste(\"package\", package, \"is required\"))"
     ]
    }
   ],
   "source": [
    "confusionMatrix(data = predictions2, reference = test$Species)\n",
    "plot(r_model)\n",
    "r_model\n",
    "sum(r_model$confusion[c(1,5,9)])/100"
   ]
  },
  {
   "cell_type": "code",
   "execution_count": null,
   "metadata": {
    "collapsed": true
   },
   "outputs": [],
   "source": []
  }
 ],
 "metadata": {
  "kernelspec": {
   "display_name": "R",
   "language": "R",
   "name": "ir"
  },
  "language_info": {
   "codemirror_mode": "r",
   "file_extension": ".r",
   "mimetype": "text/x-r-source",
   "name": "R",
   "pygments_lexer": "r",
   "version": "3.3.2"
  }
 },
 "nbformat": 4,
 "nbformat_minor": 0
}
